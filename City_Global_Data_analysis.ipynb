{
 "cells": [
  {
   "cell_type": "markdown",
   "metadata": {
    "pycharm": {
     "name": "#%% md\n"
    }
   },
   "source": [
    "<h1 align=center ><b>Exploring Weather Trends</b></h1>\n",
    "\n",
    "<b>Data Extraction:</b></br>\n",
    "To extract data I used SQL quires in the environment provided in Udacity. There are 2 different tables named city_data, city_list, global_data. From these tables I need global_data and city_data for the comparison of global temperature with the local temperature.\n",
    "</br></br>\n",
    "Quires used:\n",
    "</br>  Select * from city_data;\n",
    "</br>  Select * from global_data;\n",
    "</br></br>\n",
    "The results from each query gives you all the data that is present in the database. I downloaded the whole datasets in .csv format. \n",
    "\n",
    "<b>Data Preprocessing:</b>\n",
    "   Once I downloaded the data, I created a python project in PyCharm where I am using a jupyter notebook to code. Firs step is to load required packages for the analysis.\n",
    "The required libraries are Pandas, numpy and pyplot from matplotlib."
   ]
  },
  {
   "cell_type": "code",
   "execution_count": 110,
   "metadata": {
    "pycharm": {
     "is_executing": false,
     "name": "#%%\n"
    }
   },
   "outputs": [],
   "source": [
    "#Importing required Packages for analysis\n",
    "import pandas as pd\n",
    "import matplotlib.pyplot as plt\n",
    "import numpy as np\n",
    "\n",
    "import  warnings\n",
    "warnings.filterwarnings('ignore')#Ignore all warnings"
   ]
  },
  {
   "cell_type": "markdown",
   "metadata": {
    "pycharm": {
     "name": "#%% md\n"
    }
   },
   "source": [
    "In the following code I have used pandas method to read the .csv files that are downloaded from the database.\n",
    "and check the data loaded by using head()."
   ]
  },
  {
   "cell_type": "code",
   "execution_count": 111,
   "metadata": {
    "pycharm": {
     "is_executing": false,
     "name": "#%%\n"
    }
   },
   "outputs": [
    {
     "name": "stdout",
     "text": [
      "   year     city        country  avg_temp\n",
      "0  1849  Abidjan  Côte D'Ivoire     25.58\n",
      "1  1850  Abidjan  Côte D'Ivoire     25.52\n",
      "2  1851  Abidjan  Côte D'Ivoire     25.67\n",
      "3  1852  Abidjan  Côte D'Ivoire       NaN\n",
      "4  1853  Abidjan  Côte D'Ivoire       NaN\n",
      "\n",
      "--------------------------------------------------\n",
      "\n",
      "   year  avg_temp\n",
      "0  1750      8.72\n",
      "1  1751      7.98\n",
      "2  1752      5.78\n",
      "3  1753      8.39\n",
      "4  1754      8.47\n"
     ],
     "output_type": "stream"
    }
   ],
   "source": [
    "city = pd.read_csv(\"Data/city_data.csv\")\n",
    "glob = pd.read_csv(\"Data/global_data.csv\")\n",
    "print(city.head(5))\n",
    "print(\"\\n\" + \"-\"*50 + \"\\n\")\n",
    "print(glob.head(5))"
   ]
  },
  {
   "cell_type": "markdown",
   "metadata": {
    "pycharm": {
     "name": "#%% md\n"
    }
   },
   "source": [
    "As I am in Dallas, I would like to compare the Global temperature with Dallas temperature. So I have to Separate the Dallas data from all the other cities.\n",
    "After getting the dallas data I have observed there is some missing data from the initial years, do I have to remove those years from Global data for Comparsion. For this I am using \"iloc\"."
   ]
  },
  {
   "cell_type": "code",
   "execution_count": 112,
   "metadata": {
    "pycharm": {
     "is_executing": false,
     "name": "#%%\n"
    }
   },
   "outputs": [
    {
     "data": {
      "text/plain": "       year    city        country  avg_temp\n17686  1820  Dallas  United States     16.88\n17687  1821  Dallas  United States     17.33\n17688  1822  Dallas  United States     17.87\n17689  1823  Dallas  United States     17.46\n17690  1824  Dallas  United States     17.90",
      "text/html": "<div>\n<style scoped>\n    .dataframe tbody tr th:only-of-type {\n        vertical-align: middle;\n    }\n\n    .dataframe tbody tr th {\n        vertical-align: top;\n    }\n\n    .dataframe thead th {\n        text-align: right;\n    }\n</style>\n<table border=\"1\" class=\"dataframe\">\n  <thead>\n    <tr style=\"text-align: right;\">\n      <th></th>\n      <th>year</th>\n      <th>city</th>\n      <th>country</th>\n      <th>avg_temp</th>\n    </tr>\n  </thead>\n  <tbody>\n    <tr>\n      <th>17686</th>\n      <td>1820</td>\n      <td>Dallas</td>\n      <td>United States</td>\n      <td>16.88</td>\n    </tr>\n    <tr>\n      <th>17687</th>\n      <td>1821</td>\n      <td>Dallas</td>\n      <td>United States</td>\n      <td>17.33</td>\n    </tr>\n    <tr>\n      <th>17688</th>\n      <td>1822</td>\n      <td>Dallas</td>\n      <td>United States</td>\n      <td>17.87</td>\n    </tr>\n    <tr>\n      <th>17689</th>\n      <td>1823</td>\n      <td>Dallas</td>\n      <td>United States</td>\n      <td>17.46</td>\n    </tr>\n    <tr>\n      <th>17690</th>\n      <td>1824</td>\n      <td>Dallas</td>\n      <td>United States</td>\n      <td>17.90</td>\n    </tr>\n  </tbody>\n</table>\n</div>"
     },
     "metadata": {},
     "output_type": "execute_result",
     "execution_count": 112
    }
   ],
   "source": [
    "#get data for Dallas, TX\n",
    "dallas = city[city[\"city\"]== \"Dallas\"]\n",
    "glob_filter = glob[glob['year']>= dallas['year'].iloc[0]]\n",
    "dallas.head(5)"
   ]
  },
  {
   "cell_type": "markdown",
   "source": [
    "<b> Moving Average</b></br>\n",
    "To remove volatile graph from the plot we use the Moving avg for the comparision. For this analysis I am using a 5 year moving avg and replacing the NaN values from the moving avg with the avg_temp."
   ],
   "metadata": {
    "collapsed": false,
    "pycharm": {
     "name": "#%% md\n"
    }
   }
  },
  {
   "cell_type": "code",
   "execution_count": 113,
   "metadata": {
    "pycharm": {
     "is_executing": false,
     "name": "#%%\n"
    }
   },
   "outputs": [
    {
     "data": {
      "text/plain": "       year    city        country  avg_temp  Mov_Avg_5\n17686  1820  Dallas  United States     16.88      16.88\n17687  1821  Dallas  United States     17.33      17.33\n17688  1822  Dallas  United States     17.87      17.87\n17689  1823  Dallas  United States     17.46      17.46\n17690  1824  Dallas  United States     17.90      17.49\n17691  1825  Dallas  United States     18.38      17.79\n17692  1826  Dallas  United States     17.93      17.91\n17693  1827  Dallas  United States     18.62      18.06\n17694  1828  Dallas  United States     18.26      18.22\n17695  1829  Dallas  United States     17.89      18.22\n17696  1830  Dallas  United States     18.68      18.28\n17697  1831  Dallas  United States     16.98      18.09\n17698  1832  Dallas  United States     17.81      17.92\n17699  1833  Dallas  United States     18.29      17.93\n17700  1834  Dallas  United States     18.50      18.05\n17701  1835  Dallas  United States     16.58      17.63\n17702  1836  Dallas  United States     16.67      17.57\n17703  1837  Dallas  United States     17.47      17.50\n17704  1838  Dallas  United States     16.54      17.15\n17705  1839  Dallas  United States     17.64      16.98",
      "text/html": "<div>\n<style scoped>\n    .dataframe tbody tr th:only-of-type {\n        vertical-align: middle;\n    }\n\n    .dataframe tbody tr th {\n        vertical-align: top;\n    }\n\n    .dataframe thead th {\n        text-align: right;\n    }\n</style>\n<table border=\"1\" class=\"dataframe\">\n  <thead>\n    <tr style=\"text-align: right;\">\n      <th></th>\n      <th>year</th>\n      <th>city</th>\n      <th>country</th>\n      <th>avg_temp</th>\n      <th>Mov_Avg_5</th>\n    </tr>\n  </thead>\n  <tbody>\n    <tr>\n      <th>17686</th>\n      <td>1820</td>\n      <td>Dallas</td>\n      <td>United States</td>\n      <td>16.88</td>\n      <td>16.88</td>\n    </tr>\n    <tr>\n      <th>17687</th>\n      <td>1821</td>\n      <td>Dallas</td>\n      <td>United States</td>\n      <td>17.33</td>\n      <td>17.33</td>\n    </tr>\n    <tr>\n      <th>17688</th>\n      <td>1822</td>\n      <td>Dallas</td>\n      <td>United States</td>\n      <td>17.87</td>\n      <td>17.87</td>\n    </tr>\n    <tr>\n      <th>17689</th>\n      <td>1823</td>\n      <td>Dallas</td>\n      <td>United States</td>\n      <td>17.46</td>\n      <td>17.46</td>\n    </tr>\n    <tr>\n      <th>17690</th>\n      <td>1824</td>\n      <td>Dallas</td>\n      <td>United States</td>\n      <td>17.90</td>\n      <td>17.49</td>\n    </tr>\n    <tr>\n      <th>17691</th>\n      <td>1825</td>\n      <td>Dallas</td>\n      <td>United States</td>\n      <td>18.38</td>\n      <td>17.79</td>\n    </tr>\n    <tr>\n      <th>17692</th>\n      <td>1826</td>\n      <td>Dallas</td>\n      <td>United States</td>\n      <td>17.93</td>\n      <td>17.91</td>\n    </tr>\n    <tr>\n      <th>17693</th>\n      <td>1827</td>\n      <td>Dallas</td>\n      <td>United States</td>\n      <td>18.62</td>\n      <td>18.06</td>\n    </tr>\n    <tr>\n      <th>17694</th>\n      <td>1828</td>\n      <td>Dallas</td>\n      <td>United States</td>\n      <td>18.26</td>\n      <td>18.22</td>\n    </tr>\n    <tr>\n      <th>17695</th>\n      <td>1829</td>\n      <td>Dallas</td>\n      <td>United States</td>\n      <td>17.89</td>\n      <td>18.22</td>\n    </tr>\n    <tr>\n      <th>17696</th>\n      <td>1830</td>\n      <td>Dallas</td>\n      <td>United States</td>\n      <td>18.68</td>\n      <td>18.28</td>\n    </tr>\n    <tr>\n      <th>17697</th>\n      <td>1831</td>\n      <td>Dallas</td>\n      <td>United States</td>\n      <td>16.98</td>\n      <td>18.09</td>\n    </tr>\n    <tr>\n      <th>17698</th>\n      <td>1832</td>\n      <td>Dallas</td>\n      <td>United States</td>\n      <td>17.81</td>\n      <td>17.92</td>\n    </tr>\n    <tr>\n      <th>17699</th>\n      <td>1833</td>\n      <td>Dallas</td>\n      <td>United States</td>\n      <td>18.29</td>\n      <td>17.93</td>\n    </tr>\n    <tr>\n      <th>17700</th>\n      <td>1834</td>\n      <td>Dallas</td>\n      <td>United States</td>\n      <td>18.50</td>\n      <td>18.05</td>\n    </tr>\n    <tr>\n      <th>17701</th>\n      <td>1835</td>\n      <td>Dallas</td>\n      <td>United States</td>\n      <td>16.58</td>\n      <td>17.63</td>\n    </tr>\n    <tr>\n      <th>17702</th>\n      <td>1836</td>\n      <td>Dallas</td>\n      <td>United States</td>\n      <td>16.67</td>\n      <td>17.57</td>\n    </tr>\n    <tr>\n      <th>17703</th>\n      <td>1837</td>\n      <td>Dallas</td>\n      <td>United States</td>\n      <td>17.47</td>\n      <td>17.50</td>\n    </tr>\n    <tr>\n      <th>17704</th>\n      <td>1838</td>\n      <td>Dallas</td>\n      <td>United States</td>\n      <td>16.54</td>\n      <td>17.15</td>\n    </tr>\n    <tr>\n      <th>17705</th>\n      <td>1839</td>\n      <td>Dallas</td>\n      <td>United States</td>\n      <td>17.64</td>\n      <td>16.98</td>\n    </tr>\n  </tbody>\n</table>\n</div>"
     },
     "metadata": {},
     "output_type": "execute_result",
     "execution_count": 113
    }
   ],
   "source": [
    "# Moving avg for global and Dallas data\n",
    "for i in range(dallas.shape[0]-5):\n",
    "    total = 0  # To calculate a sum to get the avg.\n",
    "    for j in range(5): #find sum of 5 years of avg_temp value to get te moving avg.\n",
    "        total+= float(dallas.iloc[i+j,3])\n",
    "    dallas.loc[dallas.index[i+4],'Mov_Avg_5'] = np.round(total/5,2)\n",
    "dallas.Mov_Avg_5.fillna(dallas.avg_temp, inplace = True)\n",
    "dallas.head(20)"
   ]
  },
  {
   "cell_type": "code",
   "execution_count": 114,
   "metadata": {
    "pycharm": {
     "is_executing": false,
     "name": "#%%\n"
    }
   },
   "outputs": [
    {
     "data": {
      "text/plain": "    year  avg_temp  Mov_Avg_5\n70  1820      7.62       7.62\n71  1821      8.09       8.09\n72  1822      8.19       8.19\n73  1823      7.72       7.72\n74  1824      8.55       8.03\n75  1825      8.39       8.19\n76  1826      8.36       8.24\n77  1827      8.81       8.37\n78  1828      8.17       8.46\n79  1829      7.94       8.33\n80  1830      8.52       8.36\n81  1831      7.64       8.22\n82  1832      7.45       7.94\n83  1833      8.01       7.91\n84  1834      8.15       7.95\n85  1835      7.39       7.73\n86  1836      7.70       7.74\n87  1837      7.38       7.73\n88  1838      7.51       7.63\n89  1839      7.63       7.52",
      "text/html": "<div>\n<style scoped>\n    .dataframe tbody tr th:only-of-type {\n        vertical-align: middle;\n    }\n\n    .dataframe tbody tr th {\n        vertical-align: top;\n    }\n\n    .dataframe thead th {\n        text-align: right;\n    }\n</style>\n<table border=\"1\" class=\"dataframe\">\n  <thead>\n    <tr style=\"text-align: right;\">\n      <th></th>\n      <th>year</th>\n      <th>avg_temp</th>\n      <th>Mov_Avg_5</th>\n    </tr>\n  </thead>\n  <tbody>\n    <tr>\n      <th>70</th>\n      <td>1820</td>\n      <td>7.62</td>\n      <td>7.62</td>\n    </tr>\n    <tr>\n      <th>71</th>\n      <td>1821</td>\n      <td>8.09</td>\n      <td>8.09</td>\n    </tr>\n    <tr>\n      <th>72</th>\n      <td>1822</td>\n      <td>8.19</td>\n      <td>8.19</td>\n    </tr>\n    <tr>\n      <th>73</th>\n      <td>1823</td>\n      <td>7.72</td>\n      <td>7.72</td>\n    </tr>\n    <tr>\n      <th>74</th>\n      <td>1824</td>\n      <td>8.55</td>\n      <td>8.03</td>\n    </tr>\n    <tr>\n      <th>75</th>\n      <td>1825</td>\n      <td>8.39</td>\n      <td>8.19</td>\n    </tr>\n    <tr>\n      <th>76</th>\n      <td>1826</td>\n      <td>8.36</td>\n      <td>8.24</td>\n    </tr>\n    <tr>\n      <th>77</th>\n      <td>1827</td>\n      <td>8.81</td>\n      <td>8.37</td>\n    </tr>\n    <tr>\n      <th>78</th>\n      <td>1828</td>\n      <td>8.17</td>\n      <td>8.46</td>\n    </tr>\n    <tr>\n      <th>79</th>\n      <td>1829</td>\n      <td>7.94</td>\n      <td>8.33</td>\n    </tr>\n    <tr>\n      <th>80</th>\n      <td>1830</td>\n      <td>8.52</td>\n      <td>8.36</td>\n    </tr>\n    <tr>\n      <th>81</th>\n      <td>1831</td>\n      <td>7.64</td>\n      <td>8.22</td>\n    </tr>\n    <tr>\n      <th>82</th>\n      <td>1832</td>\n      <td>7.45</td>\n      <td>7.94</td>\n    </tr>\n    <tr>\n      <th>83</th>\n      <td>1833</td>\n      <td>8.01</td>\n      <td>7.91</td>\n    </tr>\n    <tr>\n      <th>84</th>\n      <td>1834</td>\n      <td>8.15</td>\n      <td>7.95</td>\n    </tr>\n    <tr>\n      <th>85</th>\n      <td>1835</td>\n      <td>7.39</td>\n      <td>7.73</td>\n    </tr>\n    <tr>\n      <th>86</th>\n      <td>1836</td>\n      <td>7.70</td>\n      <td>7.74</td>\n    </tr>\n    <tr>\n      <th>87</th>\n      <td>1837</td>\n      <td>7.38</td>\n      <td>7.73</td>\n    </tr>\n    <tr>\n      <th>88</th>\n      <td>1838</td>\n      <td>7.51</td>\n      <td>7.63</td>\n    </tr>\n    <tr>\n      <th>89</th>\n      <td>1839</td>\n      <td>7.63</td>\n      <td>7.52</td>\n    </tr>\n  </tbody>\n</table>\n</div>"
     },
     "metadata": {},
     "output_type": "execute_result",
     "execution_count": 114
    }
   ],
   "source": [
    "for i in range(glob_filter.shape[0]-5):\n",
    "    total = 0  # To calculate a sum to get the avg.\n",
    "    for j in range(5): #find sum of 5 years of avg_temp value to get te moving avg.\n",
    "        total+= float(glob_filter.iloc[i+j,1])\n",
    "    glob_filter.loc[glob_filter.index[i+4],'Mov_Avg_5'] = np.round(total/5,2)\n",
    "glob_filter.Mov_Avg_5.fillna(glob_filter.avg_temp, inplace = True)    \n",
    "glob_filter.head(20)"
   ]
  },
  {
   "cell_type": "code",
   "execution_count": 115,
   "metadata": {
    "pycharm": {
     "is_executing": false,
     "name": "#%%\n"
    }
   },
   "outputs": [
    {
     "data": {
      "text/plain": "<Figure size 432x288 with 1 Axes>",
      "image/png": "[encoded data removed]"
     },
     "metadata": {
      "needs_background": "light"
     },
     "output_type": "display_data"
    }
   ],
   "source": [
    "plt.plot(glob_filter['year'], glob_filter['avg_temp'], label = \"global\")\n",
    "\n",
    "plt.plot(dallas['year'], dallas['Mov_Avg_5'], label = 'Dallas')\n",
    "\n",
    "plt.xlabel(\"Year\")\n",
    "plt.ylabel(\"Avg Temperature\")\n",
    "plt.title('Global Temperature Plot vs Dallas Temp')\n",
    "plt.legend()\n",
    "plt.show()"
   ]
  },
  {
   "cell_type": "code",
   "execution_count": 116,
   "metadata": {
    "pycharm": {
     "name": "#%%\n",
     "is_executing": false
    }
   },
   "outputs": [
    {
     "data": {
      "text/plain": "count    194.000000\nmean      18.045412\nstd        0.457856\nmin       16.880000\n25%       17.725000\n50%       18.030000\n75%       18.267500\nmax       20.450000\nName: Mov_Avg_5, dtype: float64"
     },
     "metadata": {},
     "output_type": "execute_result",
     "execution_count": 116
    }
   ],
   "source": [
    "dallas['Mov_Avg_5'].describe()\n"
   ]
  },
  {
   "cell_type": "code",
   "execution_count": 117,
   "metadata": {
    "pycharm": {
     "is_executing": false
    }
   },
   "outputs": [
    {
     "data": {
      "text/plain": "count    196.000000\nmean       8.462296\nstd        0.467863\nmin        7.520000\n25%        8.097500\n50%        8.380000\n75%        8.680000\nmax        9.830000\nName: Mov_Avg_5, dtype: float64"
     },
     "metadata": {},
     "output_type": "execute_result",
     "execution_count": 117
    }
   ],
   "source": [
    "glob_filter['Mov_Avg_5'].describe()"
   ]
  },
  {
   "cell_type": "code",
   "execution_count": 118,
   "outputs": [
    {
     "name": "stdout",
     "text": [
      "       year    city        country  avg_temp  Mov_Avg_5\n",
      "17686  1820  Dallas  United States     16.88      16.88\n",
      "       year    city        country  avg_temp  Mov_Avg_5\n",
      "17879  2013  Dallas  United States     20.45      20.45\n",
      "\n",
      "--------------------------------------------------\n",
      "\n",
      "    year  avg_temp  Mov_Avg_5\n",
      "70  1820      7.62       7.62\n",
      "     year  avg_temp  Mov_Avg_5\n",
      "265  2015      9.83       9.83\n"
     ],
     "output_type": "stream"
    }
   ],
   "source": [
    "print(dallas.head(1))\n",
    "print(dallas.tail(1))\n",
    "print(\"\\n\" + \"-\"*50 + \"\\n\")\n",
    "print(glob_filter.head(1))\n",
    "print(glob_filter.tail(1))"
   ],
   "metadata": {
    "collapsed": false,
    "pycharm": {
     "name": "#%%\n",
     "is_executing": false
    }
   }
  },
  {
   "cell_type": "markdown",
   "metadata": {
    "pycharm": {
     "name": "#%% md\n"
    }
   },
   "source": [
    "<b>Observations:</b>\n",
    "\n",
    "<ol>\n",
    "    <li> Dallas temperatures are Almost 10 degrees above the global temperatures with the Average temperature of 18 degrees and the Global average is 8.46 degrees. </li>\n",
    "    <li> There is 4 degree increase in Dallas temperature where as Global temperature has seen only 2 degrees increase</li>\n",
    "    <li> The Temperature variation in global temerature is almost similar with Dallas temperature except between 1950-55 where we have seen a significant decrease in dallas temperature but the global temperature hasn't seen that decrease.</li>  \n",
    "    <li> Overall There is a increasing trend in the global temperature and Dallas City temperature. Global temperature varies with the change in Dallas temperature but there are other cities which can have impact on the global avg temperature.</li>\n",
    "</ol>\n",
    "\n"
   ]
  }
 ],
 "metadata": {
  "kernelspec": {
   "name": "python3",
   "language": "python",
   "display_name": "Python 3"
  },
  "language_info": {
   "codemirror_mode": {
    "name": "ipython",
    "version": 3
   },
   "file_extension": ".py",
   "mimetype": "text/x-python",
   "name": "python",
   "nbconvert_exporter": "python",
   "pygments_lexer": "ipython3",
   "version": "3.7.7"
  },
  "pycharm": {
   "stem_cell": {
    "cell_type": "raw",
    "source": [],
    "metadata": {
     "collapsed": false
    }
   }
  }
 },
 "nbformat": 4,
 "nbformat_minor": 1
}